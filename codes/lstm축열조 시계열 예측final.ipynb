{
  "nbformat": 4,
  "nbformat_minor": 0,
  "metadata": {
    "colab": {
      "provenance": [],
      "gpuType": "T4",
      "authorship_tag": "ABX9TyNivKZr4Wo0UHklYkeOmKeR",
      "include_colab_link": true
    },
    "kernelspec": {
      "name": "python3",
      "display_name": "Python 3"
    },
    "language_info": {
      "name": "python"
    },
    "accelerator": "GPU"
  },
  "cells": [
    {
      "cell_type": "markdown",
      "metadata": {
        "id": "view-in-github",
        "colab_type": "text"
      },
      "source": [
        "<a href=\"https://colab.research.google.com/github/jwyzfe/lstm_project/blob/main/codes/lstm%EC%B6%95%EC%97%B4%EC%A1%B0%20%EC%8B%9C%EA%B3%84%EC%97%B4%20%EC%98%88%EC%B8%A1final.ipynb\" target=\"_parent\"><img src=\"https://colab.research.google.com/assets/colab-badge.svg\" alt=\"Open In Colab\"/></a>"
      ]
    },
    {
      "cell_type": "code",
      "execution_count": 103,
      "metadata": {
        "colab": {
          "base_uri": "https://localhost:8080/"
        },
        "id": "moigG7VBDYqG",
        "outputId": "c4cf068f-2feb-46a4-8304-3626b3198a80"
      },
      "outputs": [
        {
          "output_type": "stream",
          "name": "stdout",
          "text": [
            "Drive already mounted at /content/drive; to attempt to forcibly remount, call drive.mount(\"/content/drive\", force_remount=True).\n"
          ]
        }
      ],
      "source": [
        "#colab과 googledrive 연동\n",
        "from google.colab import drive\n",
        "drive.mount('/content/drive')"
      ]
    },
    {
      "cell_type": "code",
      "source": [
        "import pandas as pd\n",
        "import numpy as np\n",
        "import matplotlib.pyplot as plt\n",
        "from sklearn.preprocessing import MinMaxScaler\n",
        "from sklearn.model_selection import train_test_split\n",
        "from tensorflow.keras.models import Sequential\n",
        "from tensorflow.keras.layers import LSTM, Dense\n",
        "from sklearn.metrics import mean_squared_error"
      ],
      "metadata": {
        "id": "hsugsJpuFM-G"
      },
      "execution_count": 104,
      "outputs": []
    },
    {
      "cell_type": "code",
      "source": [
        "import pandas as pd\n",
        "\n",
        "# CSV 파일 불러오기 (드라이브 경로 지정)\n",
        "file_path = '/content/drive/My Drive/lstm/test_data.csv'\n",
        "df = pd.read_csv(file_path)"
      ],
      "metadata": {
        "id": "5MaKiSkxEYZO"
      },
      "execution_count": 105,
      "outputs": []
    },
    {
      "cell_type": "code",
      "source": [
        "import keras\n",
        "import pandas as pd\n",
        "\n",
        "file_path = '/content/drive/My Drive/lstm/test_data.csv'\n",
        "df = pd.read_csv(file_path)\n",
        "\n",
        "f = open(file_path)  # 'fname' 대신 'file_path'를 사용\n",
        "data = f.read()\n",
        "f.close()\n",
        "\n",
        "lines = data.split('\\n')\n",
        "header = lines[0].split(',')\n",
        "lines = lines[1:]\n",
        "\n",
        "print(header)\n",
        "print(\"데이터의 수\", len(lines))\n"
      ],
      "metadata": {
        "colab": {
          "base_uri": "https://localhost:8080/"
        },
        "id": "2zrhvKq9EYXO",
        "outputId": "d72dd09e-2c2a-4071-ec91-37b8b39a0aa4"
      },
      "execution_count": 106,
      "outputs": [
        {
          "output_type": "stream",
          "name": "stdout",
          "text": [
            "['데이터_수집일', '축열조공급온도', '축열조환수온도', '주축부하공급온도', '주축부하환수온도', '주축온도1', '주축온도2', '주축온도3', '주축온도4', '보축부하공급온도', '보축부하환수온도', '보축온도1', '보축온도2', '보축온도3', '보축온도4', '주축수위', '보축수위']\n",
            "데이터의 수 18518\n"
          ]
        }
      ]
    },
    {
      "cell_type": "code",
      "source": [
        "#데이터 형식 확\n",
        "import pandas as pd\n",
        "\n",
        "# 데이터 불러오기\n",
        "file_path = '/content/drive/My Drive/lstm/test_data.csv'\n",
        "df = pd.read_csv(file_path)\n",
        "\n",
        "# 데이터프레임의 처음 몇 행 출력\n",
        "print(\"데이터프레임의 처음 몇 행:\")\n",
        "print(df.head())\n",
        "\n",
        "# 데이터프레임의 기초 통계 정보 출력\n",
        "print(\"데이터프레임의 기초 통계 정보:\")\n",
        "print(df.describe())\n",
        "\n",
        "# 각 열의 데이터 형식 출력\n",
        "print(\"각 열의 데이터 형식:\")\n",
        "print(df.dtypes)"
      ],
      "metadata": {
        "colab": {
          "base_uri": "https://localhost:8080/"
        },
        "collapsed": true,
        "id": "EW3iZDWyEYU-",
        "outputId": "01958e51-dc53-4838-9879-91ad3444ebbe"
      },
      "execution_count": 107,
      "outputs": [
        {
          "output_type": "stream",
          "name": "stdout",
          "text": [
            "데이터프레임의 처음 몇 행:\n",
            "               데이터_수집일    축열조공급온도    축열조환수온도   주축부하공급온도   주축부하환수온도      주축온도1  \\\n",
            "0  2021-06-28 14:00:00  16.381250  18.243750   7.100000  20.606250  17.775000   \n",
            "1  2021-06-28 15:00:00  16.663333  18.443333   7.225000  20.270000  18.423333   \n",
            "2  2021-06-28 16:00:00  17.058333  18.700000  10.306667  21.551667  18.431667   \n",
            "3  2021-06-28 17:00:00  17.463333  18.921667  15.803333  21.085000  18.416667   \n",
            "4  2021-06-28 18:00:00  17.828333  19.155000  16.315000  21.065000  18.420000   \n",
            "\n",
            "      주축온도2     주축온도3     주축온도4   보축부하공급온도   보축부하환수온도      보축온도1      보축온도2  \\\n",
            "0  7.806250  6.937500  6.606250  13.768750  21.275000  20.843750  19.050000   \n",
            "1  8.176667  7.028333  6.635000  14.176667  22.076667  20.848333  19.068333   \n",
            "2  8.310000  7.078333  6.693333  14.810000  22.680000  20.856667  19.063333   \n",
            "3  8.341667  7.103333  6.700000  15.718333  22.065000  20.851667  19.073333   \n",
            "4  8.366667  7.103333  6.761667  16.511667  21.743333  20.848333  19.090000   \n",
            "\n",
            "       보축온도3      보축온도4       주축수위       보축수위  \n",
            "0  17.862500  16.475000  93.239453  95.583594  \n",
            "1  17.863333  16.498333  93.300313  95.495521  \n",
            "2  17.865000  16.496667  93.320104  95.539375  \n",
            "3  17.878333  16.508333  93.255104  95.413750  \n",
            "4  17.890000  16.506667  93.194688  95.242083  \n",
            "데이터프레임의 기초 통계 정보:\n",
            "            축열조공급온도       축열조환수온도      주축부하공급온도      주축부하환수온도         주축온도1  \\\n",
            "count  18517.000000  18517.000000  18517.000000  18517.000000  18517.000000   \n",
            "mean      28.006520     27.362165     34.297363     29.072954     32.811646   \n",
            "std       15.519145     14.349495      9.645289      6.184348     17.876439   \n",
            "min        3.900000      7.460000      6.096667     12.578333      7.300000   \n",
            "25%       13.184984     13.611667     26.215000     25.063182     12.610169   \n",
            "50%       25.485000     24.396667     31.436965     27.154369     42.358333   \n",
            "75%       44.643891     42.618299     43.855000     30.945000     49.719585   \n",
            "max       56.096667     54.648333     52.776667     47.596667     56.063333   \n",
            "\n",
            "              주축온도2         주축온도3         주축온도4      보축부하공급온도      보축부하환수온도  \\\n",
            "count  18517.000000  18517.000000  18517.000000  18517.000000  18517.000000   \n",
            "mean      31.706109     31.485066     30.720905     28.411561     26.459707   \n",
            "std       18.881836     19.000737     18.625474     14.769057      7.882020   \n",
            "min        6.820000      5.738333      5.273333      4.528571      8.485000   \n",
            "25%       10.005000      9.993777      9.728333     14.800000     21.037042   \n",
            "50%       42.080000     42.086355     39.801667     26.171186     24.359322   \n",
            "75%       49.598259     49.586667     48.571667     43.268333     30.715000   \n",
            "max       55.678333     55.508333     54.973333     54.156667     50.076667   \n",
            "\n",
            "              보축온도1         보축온도2         보축온도3         보축온도4          주축수위  \\\n",
            "count  18517.000000  18517.000000  18517.000000  18517.000000  18517.000000   \n",
            "mean      27.008972     25.287010     24.691574     23.075159     94.821882   \n",
            "std       17.460000     18.440707     18.441600     17.433373      2.834064   \n",
            "min        7.120000      6.300000      4.733333      4.526667     61.798437   \n",
            "25%       10.138333      7.773333      7.287149      7.140000     93.191250   \n",
            "50%       19.483333     18.455000     16.896667     14.716552     94.466996   \n",
            "75%       47.901667     47.608475     47.125000     44.411667     96.959063   \n",
            "max       55.493333     55.300000     54.903333     54.298333     99.937292   \n",
            "\n",
            "               보축수위  \n",
            "count  18517.000000  \n",
            "mean      97.858018  \n",
            "std        1.947918  \n",
            "min       80.882812  \n",
            "25%       96.266250  \n",
            "50%       98.359479  \n",
            "75%       99.837202  \n",
            "max      100.000000  \n",
            "각 열의 데이터 형식:\n",
            "데이터_수집일      object\n",
            "축열조공급온도     float64\n",
            "축열조환수온도     float64\n",
            "주축부하공급온도    float64\n",
            "주축부하환수온도    float64\n",
            "주축온도1       float64\n",
            "주축온도2       float64\n",
            "주축온도3       float64\n",
            "주축온도4       float64\n",
            "보축부하공급온도    float64\n",
            "보축부하환수온도    float64\n",
            "보축온도1       float64\n",
            "보축온도2       float64\n",
            "보축온도3       float64\n",
            "보축온도4       float64\n",
            "주축수위        float64\n",
            "보축수위        float64\n",
            "dtype: object\n"
          ]
        }
      ]
    },
    {
      "cell_type": "code",
      "source": [
        "# 날짜 열을 datetime 형식으로 변환\n",
        "df['데이터_수집일'] = pd.to_datetime(df['데이터_수집일'], errors='coerce')\n",
        "\n",
        "# 숫자형 데이터만 선택 (datetime 형식 제외)\n",
        "df_numeric = df.select_dtypes(include=['number'])\n",
        "\n",
        "# 상관 관계 계산\n",
        "correlation_matrix = df_numeric.corr()\n",
        "\n",
        "# 상관 관계 시각화\n",
        "plt.figure(figsize=(10, 8))\n",
        "plt.matshow(correlation_matrix, cmap='coolwarm')\n",
        "plt.colorbar()\n",
        "plt.show()"
      ],
      "metadata": {
        "colab": {
          "base_uri": "https://localhost:8080/",
          "height": 440
        },
        "id": "biWsq7XMEYS-",
        "outputId": "360ee7b7-d100-4f38-f9c5-a695a3663caa"
      },
      "execution_count": 108,
      "outputs": [
        {
          "output_type": "display_data",
          "data": {
            "text/plain": [
              "<Figure size 1000x800 with 0 Axes>"
            ]
          },
          "metadata": {}
        },
        {
          "output_type": "display_data",
          "data": {
            "text/plain": [
              "<Figure size 480x480 with 2 Axes>"
            ],
            "image/png": "[encoded data removed]"
          },
          "metadata": {}
        }
      ]
    },
    {
      "cell_type": "code",
      "source": [
        "# 필요한 열만 선택 (주축수위 포함)\n",
        "numeric_features = ['축열조공급온도', '축열조환수온도', '주축부하공급온도', '주축부하환수온도', '주축온도1', '주축온도2', '주축온도3', '주축온도4', '주축수위']\n",
        "df = df[numeric_features]"
      ],
      "metadata": {
        "id": "eyVU8etpEYQm"
      },
      "execution_count": 109,
      "outputs": []
    },
    {
      "cell_type": "code",
      "source": [
        "# 결측치 처리 (평균값으로 대체)\n",
        "df.fillna(df.mean(), inplace=True)"
      ],
      "metadata": {
        "colab": {
          "base_uri": "https://localhost:8080/"
        },
        "id": "zSVeaM0MEYOe",
        "outputId": "bd821707-6eff-4942-a5bf-10b8ee2a70ac"
      },
      "execution_count": 110,
      "outputs": [
        {
          "output_type": "stream",
          "name": "stderr",
          "text": [
            "<ipython-input-110-86746326593b>:2: SettingWithCopyWarning: \n",
            "A value is trying to be set on a copy of a slice from a DataFrame\n",
            "\n",
            "See the caveats in the documentation: https://pandas.pydata.org/pandas-docs/stable/user_guide/indexing.html#returning-a-view-versus-a-copy\n",
            "  df.fillna(df.mean(), inplace=True)\n"
          ]
        }
      ]
    },
    {
      "cell_type": "code",
      "source": [
        "# 결측치 확인\n",
        "missing_values = df.isnull().sum()\n",
        "\n",
        "# 결측치가 있는 열 출력\n",
        "print(\"각 열에 대한 결측치 수:\")\n",
        "print(missing_values)\n",
        "\n",
        "# 결측치가 있는지 확인\n",
        "if missing_values.any():\n",
        "    print(\"\\n결측치가 존재합니다.\")\n",
        "else:\n",
        "    print(\"\\n결측치가 없습니다.\")\n"
      ],
      "metadata": {
        "colab": {
          "base_uri": "https://localhost:8080/"
        },
        "id": "CHQVh-cjFkRH",
        "outputId": "5fb21a27-676a-41be-ad8f-fecf3f557950"
      },
      "execution_count": 111,
      "outputs": [
        {
          "output_type": "stream",
          "name": "stdout",
          "text": [
            "각 열에 대한 결측치 수:\n",
            "축열조공급온도     0\n",
            "축열조환수온도     0\n",
            "주축부하공급온도    0\n",
            "주축부하환수온도    0\n",
            "주축온도1       0\n",
            "주축온도2       0\n",
            "주축온도3       0\n",
            "주축온도4       0\n",
            "주축수위        0\n",
            "dtype: int64\n",
            "\n",
            "결측치가 없습니다.\n"
          ]
        }
      ]
    },
    {
      "cell_type": "code",
      "source": [
        "# 스케일링 (MinMaxScaler 사용)\n",
        "scaler = MinMaxScaler(feature_range=(0, 1))\n",
        "df_scaled = pd.DataFrame(scaler.fit_transform(df), columns=df.columns)"
      ],
      "metadata": {
        "id": "a8cIOujkEYL2"
      },
      "execution_count": 112,
      "outputs": []
    },
    {
      "cell_type": "code",
      "source": [
        "# 시퀀스 데이터 생성 함수\n",
        "def create_sequences(data, seq_length):\n",
        "    sequences = []\n",
        "    target = []\n",
        "    for i in range(len(data) - seq_length):\n",
        "        seq = data[i:i+seq_length, :-1]  # X: 마지막 열 제외\n",
        "        label = data[i+seq_length, -1]  # y: 마지막 열 (주축수위)\n",
        "        sequences.append(seq)\n",
        "        target.append(label)\n",
        "    return np.array(sequences), np.array(target)\n"
      ],
      "metadata": {
        "id": "IhTs0LPrEYJm"
      },
      "execution_count": 113,
      "outputs": []
    },
    {
      "cell_type": "code",
      "source": [
        "# 시퀀스 길이 설정\n",
        "seq_length = 10"
      ],
      "metadata": {
        "id": "N9N4iBfBEYHG"
      },
      "execution_count": 114,
      "outputs": []
    },
    {
      "cell_type": "code",
      "source": [
        "# 데이터를 시퀀스로 변환\n",
        "X, y = create_sequences(df_scaled.values, seq_length)\n"
      ],
      "metadata": {
        "id": "GIlBke9qEYAP"
      },
      "execution_count": 115,
      "outputs": []
    },
    {
      "cell_type": "code",
      "source": [
        "# 데이터를 훈련, 검증, 테스트 세트로 분리\n",
        "X_train, X_temp, y_train, y_temp = train_test_split(X, y, test_size=0.4, random_state=42)\n",
        "X_valid, X_test, y_valid, y_test = train_test_split(X_temp, y_temp, test_size=0.5, random_state=42)\n"
      ],
      "metadata": {
        "id": "N5jPrAMZEobt"
      },
      "execution_count": 116,
      "outputs": []
    },
    {
      "cell_type": "code",
      "source": [
        "# LSTM 모델 구축\n",
        "model = Sequential()\n",
        "model.add(LSTM(units=50, return_sequences=True, input_shape=(X_train.shape[1], X_train.shape[2])))\n",
        "model.add(LSTM(units=50, return_sequences=False))\n",
        "model.add(Dense(units=1))"
      ],
      "metadata": {
        "colab": {
          "base_uri": "https://localhost:8080/"
        },
        "id": "oGVR2FmuEoZ2",
        "outputId": "de3e54c6-9293-455d-c13e-e07892ccf980"
      },
      "execution_count": 117,
      "outputs": [
        {
          "output_type": "stream",
          "name": "stderr",
          "text": [
            "/usr/local/lib/python3.11/dist-packages/keras/src/layers/rnn/rnn.py:200: UserWarning: Do not pass an `input_shape`/`input_dim` argument to a layer. When using Sequential models, prefer using an `Input(shape)` object as the first layer in the model instead.\n",
            "  super().__init__(**kwargs)\n"
          ]
        }
      ]
    },
    {
      "cell_type": "code",
      "source": [
        "# 모델 컴파일\n",
        "model.compile(optimizer='adam', loss='mean_squared_error')\n"
      ],
      "metadata": {
        "id": "G-mKwi-bEoXu"
      },
      "execution_count": 118,
      "outputs": []
    },
    {
      "cell_type": "code",
      "source": [
        "# 모델 학습\n",
        "#history = model.fit(X_train, y_train, epochs=100, batch_size=128, validation_data=(X_valid, y_valid))\n",
        "import tensorflow as tf\n",
        "from tensorflow.keras.callbacks import EarlyStopping\n",
        "\n",
        "# EarlyStopping 설정 (validation loss가 개선되지 않으면 훈련을 중단)\n",
        "early_stopping = EarlyStopping(monitor='val_loss', patience=10, restore_best_weights=True)\n",
        "\n",
        "# 모델 컴파일\n",
        "model.compile(optimizer=tf.keras.optimizers.Adam(learning_rate=0.001), loss='mean_squared_error')\n",
        "\n",
        "# 모델 훈련\n",
        "history = model.fit(X_train, y_train, epochs=100, batch_size=32, validation_data=(X_valid, y_valid), callbacks=[early_stopping])\n"
      ],
      "metadata": {
        "id": "nUfhEErxEoVW"
      },
      "execution_count": null,
      "outputs": []
    },
    {
      "cell_type": "markdown",
      "source": [
        "🔹 1. 배치 크기와 일반화 성능의 관계\n",
        "배치 크기는 모델이 가중치를 업데이트하는 빈도와 안정성에 영향을 줍니다.\n",
        "\n",
        "배치 크기가 클수록 (예: 64) 업데이트 횟수가 줄어들어 학습이 더 안정적으로 진행되지만, 지역 최적점(local minimum)에 빠질 위험이 높음\n",
        "배치 크기가 작을수록 (예: 16) 업데이트가 더 자주 이루어지지만, 너무 작으면 노이즈의 영향을 많이 받아 손실 값이 불안정해질 가능성이 높음\n",
        "즉, 배치 크기를 64 → 32로 줄일 때는 노이즈가 적절히 반영되어 더 일반화 성능이 좋아졌지만, 32 → 16으로 줄이니 노이즈가 너무 커져 학습이 불안정해지고 성능이 악화되었을 가능성이 큼\n",
        "\n",
        "🔹 2. 배치 크기와 옵티마이저의 상호작용\n",
        "Adam과 같은 옵티마이저는 배치 크기에 따라 학습률이 다르게 영향을 받을 수 있음.\n",
        "\n",
        "큰 배치 크기 (64 이상): 모델이 비교적 부드러운 방향으로 최적점을 찾아가지만, 지역 최적점에 갇힐 가능성이 있음\n",
        "중간 배치 크기 (32 정도): 충분한 데이터가 포함되면서도 학습이 적절히 일반화됨\n",
        "작은 배치 크기 (16 이하): 업데이트가 너무 자주 발생하여 최적화가 불안정해지고 손실 값이 크게 변동할 수 있음\n",
        "즉, 배치 크기를 16으로 줄이면 옵티마이저가 너무 자주 업데이트되어 훈련이 불안정해지고 성능이 더 나빠질 가능성이 높음.\n",
        "\n"
      ],
      "metadata": {
        "id": "jhlpBj3pMgGH"
      }
    },
    {
      "cell_type": "markdown",
      "source": [],
      "metadata": {
        "id": "9HmGHn5AMjjH"
      }
    },
    {
      "cell_type": "code",
      "source": [
        "# 학습 과정 시각화\n",
        "plt.figure(figsize=(14, 6))\n",
        "plt.plot(history.history['loss'], label='Training Loss', color='blue')\n",
        "plt.plot(history.history['val_loss'], label='Validation Loss', color='orange')\n",
        "plt.title('Model Loss during Training')\n",
        "plt.xlabel('Epochs')\n",
        "plt.ylabel('Loss')\n",
        "plt.legend()\n",
        "plt.show()"
      ],
      "metadata": {
        "id": "-c7rNoNJEoTA"
      },
      "execution_count": null,
      "outputs": []
    },
    {
      "cell_type": "code",
      "source": [
        "# 모델 예측\n",
        "y_pred = model.predict(X_test)\n"
      ],
      "metadata": {
        "colab": {
          "base_uri": "https://localhost:8080/"
        },
        "id": "fddOv3DmEoQu",
        "outputId": "83d9f7e1-1a08-457d-c6c0-44b828cfc1cf"
      },
      "execution_count": 126,
      "outputs": [
        {
          "output_type": "stream",
          "name": "stdout",
          "text": [
            "\u001b[1m116/116\u001b[0m \u001b[32m━━━━━━━━━━━━━━━━━━━━\u001b[0m\u001b[37m\u001b[0m \u001b[1m0s\u001b[0m 2ms/step\n"
          ]
        }
      ]
    },
    {
      "cell_type": "code",
      "source": [
        "# 예측값을 원래 스케일로 복원\n",
        "y_test_rescaled = scaler.inverse_transform(np.hstack([np.zeros((y_test.shape[0], X_test.shape[2])), y_test.reshape(-1, 1)]))[:, -1]\n",
        "y_pred_rescaled = scaler.inverse_transform(np.hstack([np.zeros((y_pred.shape[0], X_test.shape[2])), y_pred.reshape(-1, 1)]))[:, -1]\n"
      ],
      "metadata": {
        "id": "lrmPAKUIEwe7"
      },
      "execution_count": 127,
      "outputs": []
    },
    {
      "cell_type": "code",
      "source": [
        "# 실제값과 예측값 시각화\n",
        "plt.figure(figsize=(14, 6))\n",
        "plt.plot(y_test_rescaled, label='Actual 주축수위', color='blue', alpha=0.6)\n",
        "plt.plot(y_pred_rescaled, label='Predicted 주축수위', color='red', alpha=0.6)\n",
        "plt.title('Actual vs Predicted 주축수위')\n",
        "plt.xlabel('Time')\n",
        "plt.ylabel('주축수위')\n",
        "plt.legend()\n",
        "plt.show()"
      ],
      "metadata": {
        "id": "wrxL2PP8Ewcn"
      },
      "execution_count": null,
      "outputs": []
    },
    {
      "cell_type": "code",
      "source": [
        "# 평가 메트릭 계산\n",
        "mse = mean_squared_error(y_test_rescaled, y_pred_rescaled)\n",
        "rmse = np.sqrt(mse)\n",
        "print(f\"평균 제곱 오차 (MSE): {mse}\")\n",
        "print(f\"평균 제곱근 오차 (RMSE): {rmse}\")"
      ],
      "metadata": {
        "id": "BOdQDlBVEylW"
      },
      "execution_count": null,
      "outputs": []
    },
    {
      "cell_type": "code",
      "source": [],
      "metadata": {
        "id": "oZ9MrCmiEyi-"
      },
      "execution_count": 124,
      "outputs": []
    },
    {
      "cell_type": "code",
      "source": [],
      "metadata": {
        "id": "mlnXRa3eEye2"
      },
      "execution_count": 124,
      "outputs": []
    },
    {
      "cell_type": "code",
      "source": [],
      "metadata": {
        "id": "Cbc7t6lDEyce"
      },
      "execution_count": 124,
      "outputs": []
    }
  ]
}